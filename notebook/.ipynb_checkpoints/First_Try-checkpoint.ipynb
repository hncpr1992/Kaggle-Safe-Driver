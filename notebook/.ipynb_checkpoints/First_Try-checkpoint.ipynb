{
 "cells": [
  {
   "cell_type": "markdown",
   "metadata": {},
   "source": [
    "# Kaggle Safe Driver"
   ]
  },
  {
   "cell_type": "code",
   "execution_count": 1,
   "metadata": {},
   "outputs": [
    {
     "name": "stderr",
     "output_type": "stream",
     "text": [
      "/home/peiran/anaconda3/lib/python3.5/site-packages/sklearn/cross_validation.py:44: DeprecationWarning: This module was deprecated in version 0.18 in favor of the model_selection module into which all the refactored classes and functions are moved. Also note that the interface of the new CV iterators are different from that of this module. This module will be removed in 0.20.\n",
      "  \"This module will be removed in 0.20.\", DeprecationWarning)\n"
     ]
    }
   ],
   "source": [
    "import numpy as np\n",
    "import pandas as pd\n",
    "import matplotlib.pyplot as plt\n",
    "import seaborn as sns\n",
    "\n",
    "from sklearn.model_selection import train_test_split, StratifiedKFold\n",
    "from pandas import scatter_matrix\n",
    "import xgboost as xgb\n",
    "\n",
    "import tqdm\n",
    "\n",
    "%matplotlib inline"
   ]
  },
  {
   "cell_type": "markdown",
   "metadata": {},
   "source": [
    "Load data"
   ]
  },
  {
   "cell_type": "code",
   "execution_count": 2,
   "metadata": {
    "collapsed": true
   },
   "outputs": [],
   "source": [
    "data = pd.read_csv(\"../input/train.csv\")"
   ]
  },
  {
   "cell_type": "markdown",
   "metadata": {},
   "source": [
    "train test split"
   ]
  },
  {
   "cell_type": "code",
   "execution_count": 3,
   "metadata": {
    "collapsed": true
   },
   "outputs": [],
   "source": [
    "X_train, X_test, y_train, y_test = train_test_split(data.drop([\"id\",\"target\"],axis=1),data[\"target\"],test_size=0.2, random_state=42)"
   ]
  },
  {
   "cell_type": "code",
   "execution_count": 4,
   "metadata": {
    "collapsed": true
   },
   "outputs": [],
   "source": [
    "X_train.index = range(X_train.shape[0])\n",
    "X_test.index = range(X_test.shape[0])\n",
    "y_train.index = range(len(y_train))\n",
    "y_test.index = range(len(y_test))"
   ]
  },
  {
   "cell_type": "markdown",
   "metadata": {},
   "source": [
    "Check"
   ]
  },
  {
   "cell_type": "code",
   "execution_count": 5,
   "metadata": {},
   "outputs": [
    {
     "name": "stdout",
     "output_type": "stream",
     "text": [
      "<class 'pandas.core.frame.DataFrame'>\n",
      "RangeIndex: 476169 entries, 0 to 476168\n",
      "Data columns (total 57 columns):\n",
      "ps_ind_01         476169 non-null int64\n",
      "ps_ind_02_cat     476169 non-null int64\n",
      "ps_ind_03         476169 non-null int64\n",
      "ps_ind_04_cat     476169 non-null int64\n",
      "ps_ind_05_cat     476169 non-null int64\n",
      "ps_ind_06_bin     476169 non-null int64\n",
      "ps_ind_07_bin     476169 non-null int64\n",
      "ps_ind_08_bin     476169 non-null int64\n",
      "ps_ind_09_bin     476169 non-null int64\n",
      "ps_ind_10_bin     476169 non-null int64\n",
      "ps_ind_11_bin     476169 non-null int64\n",
      "ps_ind_12_bin     476169 non-null int64\n",
      "ps_ind_13_bin     476169 non-null int64\n",
      "ps_ind_14         476169 non-null int64\n",
      "ps_ind_15         476169 non-null int64\n",
      "ps_ind_16_bin     476169 non-null int64\n",
      "ps_ind_17_bin     476169 non-null int64\n",
      "ps_ind_18_bin     476169 non-null int64\n",
      "ps_reg_01         476169 non-null float64\n",
      "ps_reg_02         476169 non-null float64\n",
      "ps_reg_03         476169 non-null float64\n",
      "ps_car_01_cat     476169 non-null int64\n",
      "ps_car_02_cat     476169 non-null int64\n",
      "ps_car_03_cat     476169 non-null int64\n",
      "ps_car_04_cat     476169 non-null int64\n",
      "ps_car_05_cat     476169 non-null int64\n",
      "ps_car_06_cat     476169 non-null int64\n",
      "ps_car_07_cat     476169 non-null int64\n",
      "ps_car_08_cat     476169 non-null int64\n",
      "ps_car_09_cat     476169 non-null int64\n",
      "ps_car_10_cat     476169 non-null int64\n",
      "ps_car_11_cat     476169 non-null int64\n",
      "ps_car_11         476169 non-null int64\n",
      "ps_car_12         476169 non-null float64\n",
      "ps_car_13         476169 non-null float64\n",
      "ps_car_14         476169 non-null float64\n",
      "ps_car_15         476169 non-null float64\n",
      "ps_calc_01        476169 non-null float64\n",
      "ps_calc_02        476169 non-null float64\n",
      "ps_calc_03        476169 non-null float64\n",
      "ps_calc_04        476169 non-null int64\n",
      "ps_calc_05        476169 non-null int64\n",
      "ps_calc_06        476169 non-null int64\n",
      "ps_calc_07        476169 non-null int64\n",
      "ps_calc_08        476169 non-null int64\n",
      "ps_calc_09        476169 non-null int64\n",
      "ps_calc_10        476169 non-null int64\n",
      "ps_calc_11        476169 non-null int64\n",
      "ps_calc_12        476169 non-null int64\n",
      "ps_calc_13        476169 non-null int64\n",
      "ps_calc_14        476169 non-null int64\n",
      "ps_calc_15_bin    476169 non-null int64\n",
      "ps_calc_16_bin    476169 non-null int64\n",
      "ps_calc_17_bin    476169 non-null int64\n",
      "ps_calc_18_bin    476169 non-null int64\n",
      "ps_calc_19_bin    476169 non-null int64\n",
      "ps_calc_20_bin    476169 non-null int64\n",
      "dtypes: float64(10), int64(47)\n",
      "memory usage: 207.1 MB\n"
     ]
    }
   ],
   "source": [
    "X_train.info()"
   ]
  },
  {
   "cell_type": "code",
   "execution_count": 6,
   "metadata": {},
   "outputs": [
    {
     "data": {
      "text/plain": [
       "(476169, 57)"
      ]
     },
     "execution_count": 6,
     "metadata": {},
     "output_type": "execute_result"
    }
   ],
   "source": [
    "X_train.shape"
   ]
  },
  {
   "cell_type": "code",
   "execution_count": 7,
   "metadata": {},
   "outputs": [
    {
     "data": {
      "text/html": [
       "<div>\n",
       "<table border=\"1\" class=\"dataframe\">\n",
       "  <thead>\n",
       "    <tr style=\"text-align: right;\">\n",
       "      <th></th>\n",
       "      <th>ps_ind_01</th>\n",
       "      <th>ps_ind_02_cat</th>\n",
       "      <th>ps_ind_03</th>\n",
       "      <th>ps_ind_04_cat</th>\n",
       "      <th>ps_ind_05_cat</th>\n",
       "      <th>ps_ind_06_bin</th>\n",
       "      <th>ps_ind_07_bin</th>\n",
       "      <th>ps_ind_08_bin</th>\n",
       "      <th>ps_ind_09_bin</th>\n",
       "      <th>ps_ind_10_bin</th>\n",
       "      <th>...</th>\n",
       "      <th>ps_calc_11</th>\n",
       "      <th>ps_calc_12</th>\n",
       "      <th>ps_calc_13</th>\n",
       "      <th>ps_calc_14</th>\n",
       "      <th>ps_calc_15_bin</th>\n",
       "      <th>ps_calc_16_bin</th>\n",
       "      <th>ps_calc_17_bin</th>\n",
       "      <th>ps_calc_18_bin</th>\n",
       "      <th>ps_calc_19_bin</th>\n",
       "      <th>ps_calc_20_bin</th>\n",
       "    </tr>\n",
       "  </thead>\n",
       "  <tbody>\n",
       "    <tr>\n",
       "      <th>0</th>\n",
       "      <td>2</td>\n",
       "      <td>1</td>\n",
       "      <td>5</td>\n",
       "      <td>0</td>\n",
       "      <td>0</td>\n",
       "      <td>1</td>\n",
       "      <td>0</td>\n",
       "      <td>0</td>\n",
       "      <td>0</td>\n",
       "      <td>0</td>\n",
       "      <td>...</td>\n",
       "      <td>4</td>\n",
       "      <td>4</td>\n",
       "      <td>3</td>\n",
       "      <td>11</td>\n",
       "      <td>0</td>\n",
       "      <td>0</td>\n",
       "      <td>1</td>\n",
       "      <td>0</td>\n",
       "      <td>1</td>\n",
       "      <td>0</td>\n",
       "    </tr>\n",
       "    <tr>\n",
       "      <th>1</th>\n",
       "      <td>0</td>\n",
       "      <td>1</td>\n",
       "      <td>7</td>\n",
       "      <td>1</td>\n",
       "      <td>0</td>\n",
       "      <td>0</td>\n",
       "      <td>1</td>\n",
       "      <td>0</td>\n",
       "      <td>0</td>\n",
       "      <td>0</td>\n",
       "      <td>...</td>\n",
       "      <td>8</td>\n",
       "      <td>1</td>\n",
       "      <td>3</td>\n",
       "      <td>6</td>\n",
       "      <td>0</td>\n",
       "      <td>1</td>\n",
       "      <td>0</td>\n",
       "      <td>1</td>\n",
       "      <td>0</td>\n",
       "      <td>0</td>\n",
       "    </tr>\n",
       "    <tr>\n",
       "      <th>2</th>\n",
       "      <td>0</td>\n",
       "      <td>1</td>\n",
       "      <td>3</td>\n",
       "      <td>0</td>\n",
       "      <td>0</td>\n",
       "      <td>0</td>\n",
       "      <td>1</td>\n",
       "      <td>0</td>\n",
       "      <td>0</td>\n",
       "      <td>0</td>\n",
       "      <td>...</td>\n",
       "      <td>5</td>\n",
       "      <td>2</td>\n",
       "      <td>3</td>\n",
       "      <td>10</td>\n",
       "      <td>0</td>\n",
       "      <td>0</td>\n",
       "      <td>0</td>\n",
       "      <td>0</td>\n",
       "      <td>0</td>\n",
       "      <td>0</td>\n",
       "    </tr>\n",
       "  </tbody>\n",
       "</table>\n",
       "<p>3 rows × 57 columns</p>\n",
       "</div>"
      ],
      "text/plain": [
       "   ps_ind_01  ps_ind_02_cat  ps_ind_03  ps_ind_04_cat  ps_ind_05_cat  \\\n",
       "0          2              1          5              0              0   \n",
       "1          0              1          7              1              0   \n",
       "2          0              1          3              0              0   \n",
       "\n",
       "   ps_ind_06_bin  ps_ind_07_bin  ps_ind_08_bin  ps_ind_09_bin  ps_ind_10_bin  \\\n",
       "0              1              0              0              0              0   \n",
       "1              0              1              0              0              0   \n",
       "2              0              1              0              0              0   \n",
       "\n",
       "        ...        ps_calc_11  ps_calc_12  ps_calc_13  ps_calc_14  \\\n",
       "0       ...                 4           4           3          11   \n",
       "1       ...                 8           1           3           6   \n",
       "2       ...                 5           2           3          10   \n",
       "\n",
       "   ps_calc_15_bin  ps_calc_16_bin  ps_calc_17_bin  ps_calc_18_bin  \\\n",
       "0               0               0               1               0   \n",
       "1               0               1               0               1   \n",
       "2               0               0               0               0   \n",
       "\n",
       "   ps_calc_19_bin  ps_calc_20_bin  \n",
       "0               1               0  \n",
       "1               0               0  \n",
       "2               0               0  \n",
       "\n",
       "[3 rows x 57 columns]"
      ]
     },
     "execution_count": 7,
     "metadata": {},
     "output_type": "execute_result"
    }
   ],
   "source": [
    "X_train.head(3)"
   ]
  },
  {
   "cell_type": "code",
   "execution_count": 8,
   "metadata": {},
   "outputs": [
    {
     "data": {
      "text/plain": [
       "0    458860\n",
       "1     17309\n",
       "Name: target, dtype: int64"
      ]
     },
     "execution_count": 8,
     "metadata": {},
     "output_type": "execute_result"
    }
   ],
   "source": [
    "y_train.value_counts()"
   ]
  },
  {
   "cell_type": "markdown",
   "metadata": {},
   "source": [
    "check 0/1 ratio after split"
   ]
  },
  {
   "cell_type": "code",
   "execution_count": 9,
   "metadata": {},
   "outputs": [
    {
     "data": {
      "text/plain": [
       "26.509908140273847"
      ]
     },
     "execution_count": 9,
     "metadata": {},
     "output_type": "execute_result"
    }
   ],
   "source": [
    "(y_train == 0).sum()/(y_train == 1).sum()"
   ]
  },
  {
   "cell_type": "code",
   "execution_count": 10,
   "metadata": {},
   "outputs": [
    {
     "data": {
      "text/plain": [
       "26.147776510832383"
      ]
     },
     "execution_count": 10,
     "metadata": {},
     "output_type": "execute_result"
    }
   ],
   "source": [
    "(y_test == 0).sum()/(y_test == 1).sum()"
   ]
  },
  {
   "cell_type": "markdown",
   "metadata": {},
   "source": [
    "close to stratified sampling"
   ]
  },
  {
   "cell_type": "markdown",
   "metadata": {},
   "source": [
    "Only a small portion of people got positive results"
   ]
  },
  {
   "cell_type": "markdown",
   "metadata": {},
   "source": [
    "Features that belong to similar groupings are tagged as such in the feature names (e.g., ind, reg, car, calc).<br>\n",
    "--- groups<br>\n",
    "    \n",
    "\n",
    "In addition, feature names include the postfix bin to indicate binary features<br>\n",
    "cat to indicate categorical features<br>\n",
    "Features without these designations are either continuous or ordinal<br>\n",
    "Values of -1 indicate that the feature was missing from the observation. <br>\n",
    "The target columns signifies whether or not a claim was filed for that policy holder."
   ]
  },
  {
   "cell_type": "markdown",
   "metadata": {},
   "source": [
    "Missing"
   ]
  },
  {
   "cell_type": "code",
   "execution_count": 11,
   "metadata": {},
   "outputs": [
    {
     "data": {
      "text/plain": [
       "ps_ind_01              0\n",
       "ps_ind_02_cat        163\n",
       "ps_ind_03              0\n",
       "ps_ind_04_cat         66\n",
       "ps_ind_05_cat       4637\n",
       "ps_ind_06_bin          0\n",
       "ps_ind_07_bin          0\n",
       "ps_ind_08_bin          0\n",
       "ps_ind_09_bin          0\n",
       "ps_ind_10_bin          0\n",
       "ps_ind_11_bin          0\n",
       "ps_ind_12_bin          0\n",
       "ps_ind_13_bin          0\n",
       "ps_ind_14              0\n",
       "ps_ind_15              0\n",
       "ps_ind_16_bin          0\n",
       "ps_ind_17_bin          0\n",
       "ps_ind_18_bin          0\n",
       "ps_reg_01              0\n",
       "ps_reg_02              0\n",
       "ps_reg_03          86083\n",
       "ps_car_01_cat         83\n",
       "ps_car_02_cat          3\n",
       "ps_car_03_cat     329018\n",
       "ps_car_04_cat          0\n",
       "ps_car_05_cat     213533\n",
       "ps_car_06_cat          0\n",
       "ps_car_07_cat       9148\n",
       "ps_car_08_cat          0\n",
       "ps_car_09_cat        446\n",
       "ps_car_10_cat          0\n",
       "ps_car_11_cat          0\n",
       "ps_car_11              2\n",
       "ps_car_12              1\n",
       "ps_car_13              0\n",
       "ps_car_14          34038\n",
       "ps_car_15              0\n",
       "ps_calc_01             0\n",
       "ps_calc_02             0\n",
       "ps_calc_03             0\n",
       "ps_calc_04             0\n",
       "ps_calc_05             0\n",
       "ps_calc_06             0\n",
       "ps_calc_07             0\n",
       "ps_calc_08             0\n",
       "ps_calc_09             0\n",
       "ps_calc_10             0\n",
       "ps_calc_11             0\n",
       "ps_calc_12             0\n",
       "ps_calc_13             0\n",
       "ps_calc_14             0\n",
       "ps_calc_15_bin         0\n",
       "ps_calc_16_bin         0\n",
       "ps_calc_17_bin         0\n",
       "ps_calc_18_bin         0\n",
       "ps_calc_19_bin         0\n",
       "ps_calc_20_bin         0\n",
       "dtype: int64"
      ]
     },
     "execution_count": 11,
     "metadata": {},
     "output_type": "execute_result"
    }
   ],
   "source": [
    "(X_train == -1).sum()"
   ]
  },
  {
   "cell_type": "code",
   "execution_count": 12,
   "metadata": {
    "collapsed": true
   },
   "outputs": [],
   "source": [
    "many_miss_col = X_train.columns[(X_train == -1).sum() > 30000]"
   ]
  },
  {
   "cell_type": "code",
   "execution_count": 13,
   "metadata": {},
   "outputs": [
    {
     "data": {
      "text/plain": [
       "Index(['ps_reg_03', 'ps_car_03_cat', 'ps_car_05_cat', 'ps_car_14'], dtype='object')"
      ]
     },
     "execution_count": 13,
     "metadata": {},
     "output_type": "execute_result"
    }
   ],
   "source": [
    "many_miss_col"
   ]
  },
  {
   "cell_type": "markdown",
   "metadata": {},
   "source": [
    "1. ps_reg_03"
   ]
  },
  {
   "cell_type": "code",
   "execution_count": 14,
   "metadata": {},
   "outputs": [
    {
     "data": {
      "text/html": [
       "<div>\n",
       "<table border=\"1\" class=\"dataframe\">\n",
       "  <thead>\n",
       "    <tr style=\"text-align: right;\">\n",
       "      <th></th>\n",
       "      <th>target</th>\n",
       "      <th>target</th>\n",
       "    </tr>\n",
       "  </thead>\n",
       "  <tbody>\n",
       "    <tr>\n",
       "      <th>0</th>\n",
       "      <td>0.961929</td>\n",
       "      <td>0.971446</td>\n",
       "    </tr>\n",
       "    <tr>\n",
       "      <th>1</th>\n",
       "      <td>0.038071</td>\n",
       "      <td>0.028554</td>\n",
       "    </tr>\n",
       "  </tbody>\n",
       "</table>\n",
       "</div>"
      ],
      "text/plain": [
       "     target    target\n",
       "0  0.961929  0.971446\n",
       "1  0.038071  0.028554"
      ]
     },
     "execution_count": 14,
     "metadata": {},
     "output_type": "execute_result"
    }
   ],
   "source": [
    "not_miss_y_1 = y_train[X_train[\"ps_reg_03\"]>=0]\n",
    "miss_y_1 = y_train[X_train[\"ps_reg_03\"]<0]\n",
    "pd.concat([not_miss_y_1.value_counts() ,miss_y_1.value_counts()],axis=1).apply(lambda x: x/x.sum(), axis=0)"
   ]
  },
  {
   "cell_type": "markdown",
   "metadata": {},
   "source": [
    "2.ps_car_03_cat"
   ]
  },
  {
   "cell_type": "code",
   "execution_count": 15,
   "metadata": {},
   "outputs": [
    {
     "data": {
      "text/html": [
       "<div>\n",
       "<table border=\"1\" class=\"dataframe\">\n",
       "  <thead>\n",
       "    <tr style=\"text-align: right;\">\n",
       "      <th></th>\n",
       "      <th>target</th>\n",
       "      <th>target</th>\n",
       "    </tr>\n",
       "  </thead>\n",
       "  <tbody>\n",
       "    <tr>\n",
       "      <th>0</th>\n",
       "      <td>0.955372</td>\n",
       "      <td>0.967351</td>\n",
       "    </tr>\n",
       "    <tr>\n",
       "      <th>1</th>\n",
       "      <td>0.044628</td>\n",
       "      <td>0.032649</td>\n",
       "    </tr>\n",
       "  </tbody>\n",
       "</table>\n",
       "</div>"
      ],
      "text/plain": [
       "     target    target\n",
       "0  0.955372  0.967351\n",
       "1  0.044628  0.032649"
      ]
     },
     "execution_count": 15,
     "metadata": {},
     "output_type": "execute_result"
    }
   ],
   "source": [
    "not_miss_y_2 = y_train[X_train[\"ps_car_03_cat\"]>=0]\n",
    "miss_y_2 = y_train[X_train[\"ps_car_03_cat\"]<0]\n",
    "pd.concat([not_miss_y_2.value_counts() ,miss_y_2.value_counts()],axis=1).apply(lambda x: x/x.sum(), axis=0)"
   ]
  },
  {
   "cell_type": "markdown",
   "metadata": {},
   "source": [
    "3.ps_car_05_cat"
   ]
  },
  {
   "cell_type": "code",
   "execution_count": 16,
   "metadata": {},
   "outputs": [
    {
     "data": {
      "text/html": [
       "<div>\n",
       "<table border=\"1\" class=\"dataframe\">\n",
       "  <thead>\n",
       "    <tr style=\"text-align: right;\">\n",
       "      <th></th>\n",
       "      <th>target</th>\n",
       "      <th>target</th>\n",
       "    </tr>\n",
       "  </thead>\n",
       "  <tbody>\n",
       "    <tr>\n",
       "      <th>0</th>\n",
       "      <td>0.959823</td>\n",
       "      <td>0.968356</td>\n",
       "    </tr>\n",
       "    <tr>\n",
       "      <th>1</th>\n",
       "      <td>0.040177</td>\n",
       "      <td>0.031644</td>\n",
       "    </tr>\n",
       "  </tbody>\n",
       "</table>\n",
       "</div>"
      ],
      "text/plain": [
       "     target    target\n",
       "0  0.959823  0.968356\n",
       "1  0.040177  0.031644"
      ]
     },
     "execution_count": 16,
     "metadata": {},
     "output_type": "execute_result"
    }
   ],
   "source": [
    "not_miss_y_3 = y_train[X_train[\"ps_car_05_cat\"]>=0]\n",
    "miss_y_3 = y_train[X_train[\"ps_car_05_cat\"]<0]\n",
    "pd.concat([not_miss_y_3.value_counts() ,miss_y_3.value_counts()],axis=1).apply(lambda x: x/x.sum(), axis=0)"
   ]
  },
  {
   "cell_type": "markdown",
   "metadata": {},
   "source": [
    "4.ps_car_14"
   ]
  },
  {
   "cell_type": "code",
   "execution_count": 17,
   "metadata": {},
   "outputs": [
    {
     "data": {
      "text/html": [
       "<div>\n",
       "<table border=\"1\" class=\"dataframe\">\n",
       "  <thead>\n",
       "    <tr style=\"text-align: right;\">\n",
       "      <th></th>\n",
       "      <th>target</th>\n",
       "      <th>target</th>\n",
       "    </tr>\n",
       "  </thead>\n",
       "  <tbody>\n",
       "    <tr>\n",
       "      <th>0</th>\n",
       "      <td>0.963959</td>\n",
       "      <td>0.959633</td>\n",
       "    </tr>\n",
       "    <tr>\n",
       "      <th>1</th>\n",
       "      <td>0.036041</td>\n",
       "      <td>0.040367</td>\n",
       "    </tr>\n",
       "  </tbody>\n",
       "</table>\n",
       "</div>"
      ],
      "text/plain": [
       "     target    target\n",
       "0  0.963959  0.959633\n",
       "1  0.036041  0.040367"
      ]
     },
     "execution_count": 17,
     "metadata": {},
     "output_type": "execute_result"
    }
   ],
   "source": [
    "not_miss_y_4 = y_train[X_train[\"ps_car_14\"]>=0]\n",
    "miss_y_4 = y_train[X_train[\"ps_car_14\"]<0]\n",
    "pd.concat([not_miss_y_4.value_counts() ,miss_y_4.value_counts()],axis=1).apply(lambda x: x/x.sum(), axis=0)"
   ]
  },
  {
   "cell_type": "markdown",
   "metadata": {},
   "source": [
    "small missing value"
   ]
  },
  {
   "cell_type": "code",
   "execution_count": 18,
   "metadata": {},
   "outputs": [
    {
     "name": "stderr",
     "output_type": "stream",
     "text": [
      "/home/peiran/anaconda3/lib/python3.5/site-packages/pandas/computation/expressions.py:181: UserWarning: evaluating in Python space because the '*' operator is not supported by numexpr for the bool dtype, use '&' instead\n",
      "  unsupported[op_str]))\n"
     ]
    }
   ],
   "source": [
    "small_miss_col = X_train.columns[((X_train == -1).sum() < 30000) * ((X_train == -1).sum() > 1000)]"
   ]
  },
  {
   "cell_type": "code",
   "execution_count": 19,
   "metadata": {},
   "outputs": [
    {
     "data": {
      "text/plain": [
       "Index(['ps_ind_05_cat', 'ps_car_07_cat'], dtype='object')"
      ]
     },
     "execution_count": 19,
     "metadata": {},
     "output_type": "execute_result"
    }
   ],
   "source": [
    "small_miss_col"
   ]
  },
  {
   "cell_type": "markdown",
   "metadata": {},
   "source": [
    "5.ps_ind_05_cat"
   ]
  },
  {
   "cell_type": "code",
   "execution_count": 20,
   "metadata": {},
   "outputs": [
    {
     "data": {
      "text/html": [
       "<div>\n",
       "<table border=\"1\" class=\"dataframe\">\n",
       "  <thead>\n",
       "    <tr style=\"text-align: right;\">\n",
       "      <th></th>\n",
       "      <th>target</th>\n",
       "      <th>target</th>\n",
       "    </tr>\n",
       "  </thead>\n",
       "  <tbody>\n",
       "    <tr>\n",
       "      <th>0</th>\n",
       "      <td>0.964128</td>\n",
       "      <td>0.915031</td>\n",
       "    </tr>\n",
       "    <tr>\n",
       "      <th>1</th>\n",
       "      <td>0.035872</td>\n",
       "      <td>0.084969</td>\n",
       "    </tr>\n",
       "  </tbody>\n",
       "</table>\n",
       "</div>"
      ],
      "text/plain": [
       "     target    target\n",
       "0  0.964128  0.915031\n",
       "1  0.035872  0.084969"
      ]
     },
     "execution_count": 20,
     "metadata": {},
     "output_type": "execute_result"
    }
   ],
   "source": [
    "not_miss_y_5 = y_train[X_train[\"ps_ind_05_cat\"]>=0]\n",
    "miss_y_5 = y_train[X_train[\"ps_ind_05_cat\"]<0]\n",
    "pd.concat([not_miss_y_5.value_counts() ,miss_y_5.value_counts()],axis=1).apply(lambda x: x/x.sum(), axis=0)"
   ]
  },
  {
   "cell_type": "markdown",
   "metadata": {},
   "source": [
    "6.ps_car_07_cat"
   ]
  },
  {
   "cell_type": "code",
   "execution_count": 21,
   "metadata": {},
   "outputs": [
    {
     "data": {
      "text/html": [
       "<div>\n",
       "<table border=\"1\" class=\"dataframe\">\n",
       "  <thead>\n",
       "    <tr style=\"text-align: right;\">\n",
       "      <th></th>\n",
       "      <th>target</th>\n",
       "      <th>target</th>\n",
       "    </tr>\n",
       "  </thead>\n",
       "  <tbody>\n",
       "    <tr>\n",
       "      <th>0</th>\n",
       "      <td>0.964468</td>\n",
       "      <td>0.921841</td>\n",
       "    </tr>\n",
       "    <tr>\n",
       "      <th>1</th>\n",
       "      <td>0.035532</td>\n",
       "      <td>0.078159</td>\n",
       "    </tr>\n",
       "  </tbody>\n",
       "</table>\n",
       "</div>"
      ],
      "text/plain": [
       "     target    target\n",
       "0  0.964468  0.921841\n",
       "1  0.035532  0.078159"
      ]
     },
     "execution_count": 21,
     "metadata": {},
     "output_type": "execute_result"
    }
   ],
   "source": [
    "not_miss_y_6 = y_train[X_train[\"ps_car_07_cat\"]>=0]\n",
    "miss_y_6 = y_train[X_train[\"ps_car_07_cat\"]<0]\n",
    "pd.concat([not_miss_y_6.value_counts() ,miss_y_6.value_counts()],axis=1).apply(lambda x: x/x.sum(), axis=0)"
   ]
  },
  {
   "cell_type": "markdown",
   "metadata": {},
   "source": [
    "These two missing will be good indicator of positive values"
   ]
  },
  {
   "cell_type": "markdown",
   "metadata": {},
   "source": [
    "little missing value"
   ]
  },
  {
   "cell_type": "code",
   "execution_count": 22,
   "metadata": {},
   "outputs": [
    {
     "name": "stderr",
     "output_type": "stream",
     "text": [
      "/home/peiran/anaconda3/lib/python3.5/site-packages/pandas/computation/expressions.py:181: UserWarning: evaluating in Python space because the '*' operator is not supported by numexpr for the bool dtype, use '&' instead\n",
      "  unsupported[op_str]))\n"
     ]
    }
   ],
   "source": [
    "little_miss_col = X_train.columns[((X_train == -1).sum() < 1000) * ((X_train == -1).sum() > 0)]"
   ]
  },
  {
   "cell_type": "code",
   "execution_count": 23,
   "metadata": {},
   "outputs": [
    {
     "data": {
      "text/plain": [
       "ps_ind_02_cat    163\n",
       "ps_ind_04_cat     66\n",
       "ps_car_01_cat     83\n",
       "ps_car_02_cat      3\n",
       "ps_car_09_cat    446\n",
       "ps_car_11          2\n",
       "ps_car_12          1\n",
       "dtype: int64"
      ]
     },
     "execution_count": 23,
     "metadata": {},
     "output_type": "execute_result"
    }
   ],
   "source": [
    "(X_train == -1).sum()[little_miss_col]"
   ]
  },
  {
   "cell_type": "markdown",
   "metadata": {},
   "source": [
    "7.ps_ind_02_cat"
   ]
  },
  {
   "cell_type": "code",
   "execution_count": 24,
   "metadata": {},
   "outputs": [
    {
     "data": {
      "text/html": [
       "<div>\n",
       "<table border=\"1\" class=\"dataframe\">\n",
       "  <thead>\n",
       "    <tr style=\"text-align: right;\">\n",
       "      <th></th>\n",
       "      <th>target</th>\n",
       "      <th>target</th>\n",
       "    </tr>\n",
       "  </thead>\n",
       "  <tbody>\n",
       "    <tr>\n",
       "      <th>0</th>\n",
       "      <td>0.963706</td>\n",
       "      <td>0.797546</td>\n",
       "    </tr>\n",
       "    <tr>\n",
       "      <th>1</th>\n",
       "      <td>0.036294</td>\n",
       "      <td>0.202454</td>\n",
       "    </tr>\n",
       "  </tbody>\n",
       "</table>\n",
       "</div>"
      ],
      "text/plain": [
       "     target    target\n",
       "0  0.963706  0.797546\n",
       "1  0.036294  0.202454"
      ]
     },
     "execution_count": 24,
     "metadata": {},
     "output_type": "execute_result"
    }
   ],
   "source": [
    "not_miss_y_7 = y_train[X_train[\"ps_ind_02_cat\"]>=0]\n",
    "miss_y_7 = y_train[X_train[\"ps_ind_02_cat\"]<0]\n",
    "pd.concat([not_miss_y_7.value_counts() ,miss_y_7.value_counts()],axis=1).apply(lambda x: x/x.sum(), axis=0)"
   ]
  },
  {
   "cell_type": "markdown",
   "metadata": {},
   "source": [
    "8.ps_ind_04_cat"
   ]
  },
  {
   "cell_type": "code",
   "execution_count": 25,
   "metadata": {},
   "outputs": [
    {
     "data": {
      "text/html": [
       "<div>\n",
       "<table border=\"1\" class=\"dataframe\">\n",
       "  <thead>\n",
       "    <tr style=\"text-align: right;\">\n",
       "      <th></th>\n",
       "      <th>target</th>\n",
       "      <th>target</th>\n",
       "    </tr>\n",
       "  </thead>\n",
       "  <tbody>\n",
       "    <tr>\n",
       "      <th>0</th>\n",
       "      <td>0.963701</td>\n",
       "      <td>0.590909</td>\n",
       "    </tr>\n",
       "    <tr>\n",
       "      <th>1</th>\n",
       "      <td>0.036299</td>\n",
       "      <td>0.409091</td>\n",
       "    </tr>\n",
       "  </tbody>\n",
       "</table>\n",
       "</div>"
      ],
      "text/plain": [
       "     target    target\n",
       "0  0.963701  0.590909\n",
       "1  0.036299  0.409091"
      ]
     },
     "execution_count": 25,
     "metadata": {},
     "output_type": "execute_result"
    }
   ],
   "source": [
    "not_miss_y_8 = y_train[X_train[\"ps_ind_04_cat\"]>=0]\n",
    "miss_y_8 = y_train[X_train[\"ps_ind_04_cat\"]<0]\n",
    "pd.concat([not_miss_y_8.value_counts() ,miss_y_8.value_counts()],axis=1).apply(lambda x: x/x.sum(), axis=0)"
   ]
  },
  {
   "cell_type": "markdown",
   "metadata": {},
   "source": [
    "9.ps_car_01_cat"
   ]
  },
  {
   "cell_type": "code",
   "execution_count": 26,
   "metadata": {},
   "outputs": [
    {
     "data": {
      "text/html": [
       "<div>\n",
       "<table border=\"1\" class=\"dataframe\">\n",
       "  <thead>\n",
       "    <tr style=\"text-align: right;\">\n",
       "      <th></th>\n",
       "      <th>target</th>\n",
       "      <th>target</th>\n",
       "    </tr>\n",
       "  </thead>\n",
       "  <tbody>\n",
       "    <tr>\n",
       "      <th>0</th>\n",
       "      <td>0.963702</td>\n",
       "      <td>0.662651</td>\n",
       "    </tr>\n",
       "    <tr>\n",
       "      <th>1</th>\n",
       "      <td>0.036298</td>\n",
       "      <td>0.337349</td>\n",
       "    </tr>\n",
       "  </tbody>\n",
       "</table>\n",
       "</div>"
      ],
      "text/plain": [
       "     target    target\n",
       "0  0.963702  0.662651\n",
       "1  0.036298  0.337349"
      ]
     },
     "execution_count": 26,
     "metadata": {},
     "output_type": "execute_result"
    }
   ],
   "source": [
    "not_miss_y_9 = y_train[X_train[\"ps_car_01_cat\"]>=0]\n",
    "miss_y_9 = y_train[X_train[\"ps_car_01_cat\"]<0]\n",
    "pd.concat([not_miss_y_9.value_counts() ,miss_y_9.value_counts()],axis=1).apply(lambda x: x/x.sum(), axis=0)"
   ]
  },
  {
   "cell_type": "markdown",
   "metadata": {},
   "source": [
    "10.ps_car_09_cat"
   ]
  },
  {
   "cell_type": "code",
   "execution_count": 27,
   "metadata": {},
   "outputs": [
    {
     "data": {
      "text/html": [
       "<div>\n",
       "<table border=\"1\" class=\"dataframe\">\n",
       "  <thead>\n",
       "    <tr style=\"text-align: right;\">\n",
       "      <th></th>\n",
       "      <th>target</th>\n",
       "      <th>target</th>\n",
       "    </tr>\n",
       "  </thead>\n",
       "  <tbody>\n",
       "    <tr>\n",
       "      <th>0</th>\n",
       "      <td>0.963695</td>\n",
       "      <td>0.914798</td>\n",
       "    </tr>\n",
       "    <tr>\n",
       "      <th>1</th>\n",
       "      <td>0.036305</td>\n",
       "      <td>0.085202</td>\n",
       "    </tr>\n",
       "  </tbody>\n",
       "</table>\n",
       "</div>"
      ],
      "text/plain": [
       "     target    target\n",
       "0  0.963695  0.914798\n",
       "1  0.036305  0.085202"
      ]
     },
     "execution_count": 27,
     "metadata": {},
     "output_type": "execute_result"
    }
   ],
   "source": [
    "not_miss_y_10 = y_train[X_train[\"ps_car_09_cat\"]>=0]\n",
    "miss_y_10 = y_train[X_train[\"ps_car_09_cat\"]<0]\n",
    "pd.concat([not_miss_y_10.value_counts() ,miss_y_10.value_counts()],axis=1).apply(lambda x: x/x.sum(), axis=0)"
   ]
  },
  {
   "cell_type": "markdown",
   "metadata": {},
   "source": [
    "Correlation"
   ]
  },
  {
   "cell_type": "code",
   "execution_count": 28,
   "metadata": {
    "collapsed": true
   },
   "outputs": [],
   "source": [
    "corr_mat = pd.concat([X_train, y_train], axis=1).corr()"
   ]
  },
  {
   "cell_type": "code",
   "execution_count": 29,
   "metadata": {},
   "outputs": [
    {
     "data": {
      "image/png": "[encoded data removed]",
      "text/plain": [
       "<matplotlib.figure.Figure at 0x7f34073a9550>"
      ]
     },
     "metadata": {},
     "output_type": "display_data"
    }
   ],
   "source": [
    "# Generate a custom diverging colormap\n",
    "plt.figure(figsize=(10,10))\n",
    "\n",
    "cmap = sns.diverging_palette(220, 10, as_cmap=True)\n",
    "\n",
    "# Draw the heatmap with the mask and correct aspect ratio\n",
    "sns.heatmap(corr_mat, cmap=cmap, vmax=.3, center=0,\n",
    "            square=True, linewidths=.5, cbar_kws={\"shrink\": .5});"
   ]
  },
  {
   "cell_type": "markdown",
   "metadata": {},
   "source": [
    "ps\\_calc\\_\\* may not be related to target"
   ]
  },
  {
   "cell_type": "markdown",
   "metadata": {},
   "source": [
    "Gini Index"
   ]
  },
  {
   "cell_type": "code",
   "execution_count": 30,
   "metadata": {
    "collapsed": true
   },
   "outputs": [],
   "source": [
    "def gini(y_pred, d_train):\n",
    "    y = d_train.get_label()\n",
    "    y_sort = y[y_pred.argsort()]\n",
    "    y_sort_cumsum = y_sort.cumsum()\n",
    "    output = 0.5 - (1/(len(y))) * (y_sort_cumsum.sum() / y.sum())\n",
    "    return 'gini', output"
   ]
  },
  {
   "cell_type": "markdown",
   "metadata": {},
   "source": [
    "test gini"
   ]
  },
  {
   "cell_type": "markdown",
   "metadata": {},
   "source": [
    "Simple Model "
   ]
  },
  {
   "cell_type": "markdown",
   "metadata": {},
   "source": [
    "class weights"
   ]
  },
  {
   "cell_type": "code",
   "execution_count": 34,
   "metadata": {
    "collapsed": true
   },
   "outputs": [],
   "source": [
    "from sklearn.utils import class_weight"
   ]
  },
  {
   "cell_type": "code",
   "execution_count": 35,
   "metadata": {
    "collapsed": true
   },
   "outputs": [],
   "source": [
    "c_weight = class_weight.compute_class_weight('balanced', np.unique(y_train), y_train)"
   ]
  },
  {
   "cell_type": "code",
   "execution_count": 36,
   "metadata": {},
   "outputs": [
    {
     "data": {
      "text/plain": [
       "array([  0.51886087,  13.75495407])"
      ]
     },
     "execution_count": 36,
     "metadata": {},
     "output_type": "execute_result"
    }
   ],
   "source": [
    "c_weight"
   ]
  },
  {
   "cell_type": "markdown",
   "metadata": {},
   "source": [
    "Data preparation"
   ]
  },
  {
   "cell_type": "markdown",
   "metadata": {},
   "source": [
    "We could use -1 as a special value in the data set and take care of it after the first try"
   ]
  },
  {
   "cell_type": "markdown",
   "metadata": {},
   "source": [
    "Model"
   ]
  },
  {
   "cell_type": "code",
   "execution_count": 37,
   "metadata": {
    "collapsed": true
   },
   "outputs": [],
   "source": [
    "data = pd.read_csv(\"../input/train.csv\")"
   ]
  },
  {
   "cell_type": "code",
   "execution_count": 63,
   "metadata": {
    "collapsed": true
   },
   "outputs": [],
   "source": [
    "X = data.drop([\"id\",\"target\"],axis=1).as_matrix()\n",
    "y = data[\"target\"].as_matrix()"
   ]
  },
  {
   "cell_type": "code",
   "execution_count": 116,
   "metadata": {
    "collapsed": true
   },
   "outputs": [],
   "source": [
    "data_test = pd.read_csv(\"../input/test.csv\")\n",
    "test_id = data_test[\"id\"]\n",
    "data_test.drop(\"id\", axis=1, inplace=True)\n",
    "dtest = xgb.DMatrix(data_test.as_matrix())"
   ]
  },
  {
   "cell_type": "code",
   "execution_count": 40,
   "metadata": {
    "collapsed": true
   },
   "outputs": [],
   "source": [
    "def gini(actual, pred, cmpcol = 0, sortcol = 1):\n",
    "    assert( len(actual) == len(pred) )\n",
    "    all = np.asarray(np.c_[ actual, pred, np.arange(len(actual)) ], dtype=np.float)\n",
    "    all = all[ np.lexsort((all[:,2], -1*all[:,1])) ]\n",
    "    totalLosses = all[:,0].sum()\n",
    "    giniSum = all[:,0].cumsum().sum() / totalLosses\n",
    "    giniSum -= (len(actual) + 1) / 2.\n",
    "    return giniSum / len(actual)\n",
    " \n",
    "def gini_normalized(a, p):\n",
    "    return gini(a, p) / gini(a, a)\n",
    "\n",
    "def gini_xgb(preds, dtrain):\n",
    "    labels = dtrain.get_label()\n",
    "    gini_score = gini_normalized(labels, preds)\n",
    "    return 'gini', gini_score"
   ]
  },
  {
   "cell_type": "markdown",
   "metadata": {},
   "source": [
    "Add more regularization"
   ]
  },
  {
   "cell_type": "code",
   "execution_count": 82,
   "metadata": {
    "collapsed": true
   },
   "outputs": [],
   "source": [
    "# second\n",
    "# params = {\n",
    "#     'min_child_weight': 10.0,\n",
    "#     'objective': 'binary:logistic',\n",
    "#     'max_depth': 8,\n",
    "#     'colsample_bytree': 0.5,\n",
    "#     'subsample': 0.8,\n",
    "#     'eta': 0.01,\n",
    "#     'gamma': 0.5,\n",
    "#     'num_boost_round' : 1000,\n",
    "#     \"scale_pos_weight\":3,\n",
    "#     \"reg_lambda\": 10,\n",
    "#     \"random_state\":42\n",
    "#     }\n",
    "\n",
    "# first\n",
    "params = {\n",
    "    'min_child_weight': 10.0,\n",
    "    'objective': 'binary:logistic',\n",
    "    'max_depth': 7,\n",
    "    'max_delta_step': 1.8,\n",
    "    'colsample_bytree': 0.4,\n",
    "    'subsample': 0.8,\n",
    "    'eta': 0.025,\n",
    "    'gamma': 0.65,\n",
    "    'num_boost_round' : 700\n",
    "    }"
   ]
  },
  {
   "cell_type": "code",
   "execution_count": 83,
   "metadata": {},
   "outputs": [
    {
     "name": "stdout",
     "output_type": "stream",
     "text": [
      "The 0 fold\n",
      "###################################################\n",
      "[0]\ttrain-gini:0.201252\tvalid-gini:0.187366\n",
      "Multiple eval metrics have been passed: 'valid-gini' will be used for early stopping.\n",
      "\n",
      "Will train until valid-gini hasn't improved in 70 rounds.\n",
      "[100]\ttrain-gini:0.329444\tvalid-gini:0.264347\n",
      "[200]\ttrain-gini:0.370804\tvalid-gini:0.26833\n",
      "[300]\ttrain-gini:0.406684\tvalid-gini:0.271724\n",
      "[400]\ttrain-gini:0.441514\tvalid-gini:0.274599\n",
      "[500]\ttrain-gini:0.474501\tvalid-gini:0.276319\n",
      "[600]\ttrain-gini:0.503009\tvalid-gini:0.277412\n",
      "[700]\ttrain-gini:0.528123\tvalid-gini:0.277839\n",
      "Stopping. Best iteration:\n",
      "[683]\ttrain-gini:0.523635\tvalid-gini:0.277902\n",
      "\n",
      "The 1 fold\n",
      "###################################################\n",
      "[0]\ttrain-gini:0.201544\tvalid-gini:0.186171\n",
      "Multiple eval metrics have been passed: 'valid-gini' will be used for early stopping.\n",
      "\n",
      "Will train until valid-gini hasn't improved in 70 rounds.\n",
      "[100]\ttrain-gini:0.324384\tvalid-gini:0.261052\n",
      "[200]\ttrain-gini:0.365456\tvalid-gini:0.269887\n",
      "[300]\ttrain-gini:0.403342\tvalid-gini:0.275301\n",
      "[400]\ttrain-gini:0.437956\tvalid-gini:0.2787\n",
      "[500]\ttrain-gini:0.469948\tvalid-gini:0.2808\n",
      "[600]\ttrain-gini:0.500804\tvalid-gini:0.282841\n",
      "[700]\ttrain-gini:0.526192\tvalid-gini:0.283825\n",
      "[800]\ttrain-gini:0.551049\tvalid-gini:0.284037\n",
      "Stopping. Best iteration:\n",
      "[744]\ttrain-gini:0.537405\tvalid-gini:0.284376\n",
      "\n",
      "The 2 fold\n",
      "###################################################\n",
      "[0]\ttrain-gini:0.198246\tvalid-gini:0.190071\n",
      "Multiple eval metrics have been passed: 'valid-gini' will be used for early stopping.\n",
      "\n",
      "Will train until valid-gini hasn't improved in 70 rounds.\n",
      "[100]\ttrain-gini:0.328486\tvalid-gini:0.263607\n",
      "[200]\ttrain-gini:0.37016\tvalid-gini:0.269924\n",
      "[300]\ttrain-gini:0.40819\tvalid-gini:0.273655\n",
      "[400]\ttrain-gini:0.441089\tvalid-gini:0.276179\n",
      "[500]\ttrain-gini:0.472434\tvalid-gini:0.278624\n",
      "[600]\ttrain-gini:0.503337\tvalid-gini:0.28049\n",
      "[700]\ttrain-gini:0.527718\tvalid-gini:0.281996\n",
      "[800]\ttrain-gini:0.551017\tvalid-gini:0.282131\n",
      "Stopping. Best iteration:\n",
      "[746]\ttrain-gini:0.538786\tvalid-gini:0.282389\n",
      "\n",
      "The 3 fold\n",
      "###################################################\n",
      "[0]\ttrain-gini:0.175704\tvalid-gini:0.162189\n",
      "Multiple eval metrics have been passed: 'valid-gini' will be used for early stopping.\n",
      "\n",
      "Will train until valid-gini hasn't improved in 70 rounds.\n",
      "[100]\ttrain-gini:0.32874\tvalid-gini:0.266702\n",
      "[200]\ttrain-gini:0.366246\tvalid-gini:0.27427\n",
      "[300]\ttrain-gini:0.402207\tvalid-gini:0.278955\n",
      "[400]\ttrain-gini:0.435713\tvalid-gini:0.283161\n",
      "[500]\ttrain-gini:0.468712\tvalid-gini:0.285927\n",
      "[600]\ttrain-gini:0.498214\tvalid-gini:0.288191\n",
      "[700]\ttrain-gini:0.524949\tvalid-gini:0.289023\n",
      "[800]\ttrain-gini:0.548196\tvalid-gini:0.289975\n",
      "[900]\ttrain-gini:0.570233\tvalid-gini:0.290223\n",
      "Stopping. Best iteration:\n",
      "[834]\ttrain-gini:0.556128\tvalid-gini:0.290403\n",
      "\n",
      "The 4 fold\n",
      "###################################################\n",
      "[0]\ttrain-gini:0.196264\tvalid-gini:0.181033\n",
      "Multiple eval metrics have been passed: 'valid-gini' will be used for early stopping.\n",
      "\n",
      "Will train until valid-gini hasn't improved in 70 rounds.\n",
      "[100]\ttrain-gini:0.329062\tvalid-gini:0.260207\n",
      "[200]\ttrain-gini:0.369957\tvalid-gini:0.264453\n",
      "[300]\ttrain-gini:0.405018\tvalid-gini:0.268429\n",
      "[400]\ttrain-gini:0.438932\tvalid-gini:0.271396\n",
      "[500]\ttrain-gini:0.469074\tvalid-gini:0.274034\n",
      "[600]\ttrain-gini:0.499479\tvalid-gini:0.275894\n",
      "[700]\ttrain-gini:0.526857\tvalid-gini:0.276681\n",
      "[800]\ttrain-gini:0.552233\tvalid-gini:0.277196\n",
      "Stopping. Best iteration:\n",
      "[800]\ttrain-gini:0.552233\tvalid-gini:0.277196\n",
      "\n"
     ]
    }
   ],
   "source": [
    "kfolds = 5\n",
    "pred = np.zeros(data_test.shape[0])\n",
    "skf = StratifiedKFold(n_splits=5)\n",
    "for i, (train_index, valid_index) in enumerate(skf.split(X, y)):\n",
    "    print(\"The {} fold\".format(i))\n",
    "    print(\"###################################################\")\n",
    "    \n",
    "    # train test split\n",
    "    X_train, X_valid = X[train_index], X[valid_index]\n",
    "    y_train, y_valid = y[train_index], y[valid_index]\n",
    "    dtrain = xgb.DMatrix(X_train, label=y_train.reshape(-1,1))\n",
    "    dvalid = xgb.DMatrix(X_valid, label=y_valid.reshape(-1,1))\n",
    "    evallist = [(dtrain, 'train'), (dvalid, 'valid')]\n",
    "    \n",
    "    mdl = xgb.train(params, dtrain, \n",
    "                1600, evallist, early_stopping_rounds=70, \n",
    "                feval=gini_xgb, maximize=True, verbose_eval=100)\n",
    "    \n",
    "    pred += mdl.predict(dtest, ntree_limit=mdl.best_ntree_limit) / kfolds"
   ]
  },
  {
   "cell_type": "code",
   "execution_count": 84,
   "metadata": {
    "collapsed": true
   },
   "outputs": [],
   "source": [
    "sample_submit = pd.DataFrame({\"id\":test_id,\"target\":pred})"
   ]
  },
  {
   "cell_type": "code",
   "execution_count": 85,
   "metadata": {},
   "outputs": [
    {
     "data": {
      "text/html": [
       "<div>\n",
       "<table border=\"1\" class=\"dataframe\">\n",
       "  <thead>\n",
       "    <tr style=\"text-align: right;\">\n",
       "      <th></th>\n",
       "      <th>id</th>\n",
       "      <th>target</th>\n",
       "    </tr>\n",
       "  </thead>\n",
       "  <tbody>\n",
       "    <tr>\n",
       "      <th>892811</th>\n",
       "      <td>1488022</td>\n",
       "      <td>0.203096</td>\n",
       "    </tr>\n",
       "    <tr>\n",
       "      <th>892812</th>\n",
       "      <td>1488023</td>\n",
       "      <td>0.114537</td>\n",
       "    </tr>\n",
       "    <tr>\n",
       "      <th>892813</th>\n",
       "      <td>1488024</td>\n",
       "      <td>0.098142</td>\n",
       "    </tr>\n",
       "    <tr>\n",
       "      <th>892814</th>\n",
       "      <td>1488025</td>\n",
       "      <td>0.066666</td>\n",
       "    </tr>\n",
       "    <tr>\n",
       "      <th>892815</th>\n",
       "      <td>1488026</td>\n",
       "      <td>0.083260</td>\n",
       "    </tr>\n",
       "  </tbody>\n",
       "</table>\n",
       "</div>"
      ],
      "text/plain": [
       "             id    target\n",
       "892811  1488022  0.203096\n",
       "892812  1488023  0.114537\n",
       "892813  1488024  0.098142\n",
       "892814  1488025  0.066666\n",
       "892815  1488026  0.083260"
      ]
     },
     "execution_count": 85,
     "metadata": {},
     "output_type": "execute_result"
    }
   ],
   "source": [
    "sample_submit.tail()"
   ]
  },
  {
   "cell_type": "code",
   "execution_count": 87,
   "metadata": {
    "collapsed": true
   },
   "outputs": [],
   "source": [
    "sample_submit.to_csv(\"../output/second_try.csv\", index=False)"
   ]
  },
  {
   "cell_type": "code",
   "execution_count": 108,
   "metadata": {},
   "outputs": [
    {
     "ename": "ValueError",
     "evalue": "Wrong number of items passed 56, placement implies 57",
     "output_type": "error",
     "traceback": [
      "\u001b[1;31m-------------------------------------------------------------------\u001b[0m",
      "\u001b[1;31mValueError\u001b[0m                        Traceback (most recent call last)",
      "\u001b[1;32m<ipython-input-108-f5a0240eeb8f>\u001b[0m in \u001b[0;36m<module>\u001b[1;34m()\u001b[0m\n\u001b[1;32m----> 1\u001b[1;33m \u001b[0mpd\u001b[0m\u001b[1;33m.\u001b[0m\u001b[0mSeries\u001b[0m\u001b[1;33m(\u001b[0m\u001b[0mlist\u001b[0m\u001b[1;33m(\u001b[0m\u001b[0mmdl\u001b[0m\u001b[1;33m.\u001b[0m\u001b[0mget_fscore\u001b[0m\u001b[1;33m(\u001b[0m\u001b[1;33m)\u001b[0m\u001b[1;33m.\u001b[0m\u001b[0mvalues\u001b[0m\u001b[1;33m(\u001b[0m\u001b[1;33m)\u001b[0m\u001b[1;33m)\u001b[0m\u001b[1;33m,\u001b[0m \u001b[0mindex\u001b[0m \u001b[1;33m=\u001b[0m \u001b[0mdata_test\u001b[0m\u001b[1;33m.\u001b[0m\u001b[0mcolumns\u001b[0m\u001b[1;33m)\u001b[0m\u001b[1;33m\u001b[0m\u001b[0m\n\u001b[0m",
      "\u001b[1;32m/home/peiran/anaconda3/lib/python3.5/site-packages/pandas/core/series.py\u001b[0m in \u001b[0;36m__init__\u001b[1;34m(self, data, index, dtype, name, copy, fastpath)\u001b[0m\n\u001b[0;32m    227\u001b[0m                                        raise_cast_failure=True)\n\u001b[0;32m    228\u001b[0m \u001b[1;33m\u001b[0m\u001b[0m\n\u001b[1;32m--> 229\u001b[1;33m                 \u001b[0mdata\u001b[0m \u001b[1;33m=\u001b[0m \u001b[0mSingleBlockManager\u001b[0m\u001b[1;33m(\u001b[0m\u001b[0mdata\u001b[0m\u001b[1;33m,\u001b[0m \u001b[0mindex\u001b[0m\u001b[1;33m,\u001b[0m \u001b[0mfastpath\u001b[0m\u001b[1;33m=\u001b[0m\u001b[1;32mTrue\u001b[0m\u001b[1;33m)\u001b[0m\u001b[1;33m\u001b[0m\u001b[0m\n\u001b[0m\u001b[0;32m    230\u001b[0m \u001b[1;33m\u001b[0m\u001b[0m\n\u001b[0;32m    231\u001b[0m         \u001b[0mgeneric\u001b[0m\u001b[1;33m.\u001b[0m\u001b[0mNDFrame\u001b[0m\u001b[1;33m.\u001b[0m\u001b[0m__init__\u001b[0m\u001b[1;33m(\u001b[0m\u001b[0mself\u001b[0m\u001b[1;33m,\u001b[0m \u001b[0mdata\u001b[0m\u001b[1;33m,\u001b[0m \u001b[0mfastpath\u001b[0m\u001b[1;33m=\u001b[0m\u001b[1;32mTrue\u001b[0m\u001b[1;33m)\u001b[0m\u001b[1;33m\u001b[0m\u001b[0m\n",
      "\u001b[1;32m/home/peiran/anaconda3/lib/python3.5/site-packages/pandas/core/internals.py\u001b[0m in \u001b[0;36m__init__\u001b[1;34m(self, block, axis, do_integrity_check, fastpath)\u001b[0m\n\u001b[0;32m   3815\u001b[0m         \u001b[1;32mif\u001b[0m \u001b[1;32mnot\u001b[0m \u001b[0misinstance\u001b[0m\u001b[1;33m(\u001b[0m\u001b[0mblock\u001b[0m\u001b[1;33m,\u001b[0m \u001b[0mBlock\u001b[0m\u001b[1;33m)\u001b[0m\u001b[1;33m:\u001b[0m\u001b[1;33m\u001b[0m\u001b[0m\n\u001b[0;32m   3816\u001b[0m             block = make_block(block, placement=slice(0, len(axis)), ndim=1,\n\u001b[1;32m-> 3817\u001b[1;33m                                fastpath=True)\n\u001b[0m\u001b[0;32m   3818\u001b[0m \u001b[1;33m\u001b[0m\u001b[0m\n\u001b[0;32m   3819\u001b[0m         \u001b[0mself\u001b[0m\u001b[1;33m.\u001b[0m\u001b[0mblocks\u001b[0m \u001b[1;33m=\u001b[0m \u001b[1;33m[\u001b[0m\u001b[0mblock\u001b[0m\u001b[1;33m]\u001b[0m\u001b[1;33m\u001b[0m\u001b[0m\n",
      "\u001b[1;32m/home/peiran/anaconda3/lib/python3.5/site-packages/pandas/core/internals.py\u001b[0m in \u001b[0;36mmake_block\u001b[1;34m(values, placement, klass, ndim, dtype, fastpath)\u001b[0m\n\u001b[0;32m   2516\u001b[0m                      placement=placement, dtype=dtype)\n\u001b[0;32m   2517\u001b[0m \u001b[1;33m\u001b[0m\u001b[0m\n\u001b[1;32m-> 2518\u001b[1;33m     \u001b[1;32mreturn\u001b[0m \u001b[0mklass\u001b[0m\u001b[1;33m(\u001b[0m\u001b[0mvalues\u001b[0m\u001b[1;33m,\u001b[0m \u001b[0mndim\u001b[0m\u001b[1;33m=\u001b[0m\u001b[0mndim\u001b[0m\u001b[1;33m,\u001b[0m \u001b[0mfastpath\u001b[0m\u001b[1;33m=\u001b[0m\u001b[0mfastpath\u001b[0m\u001b[1;33m,\u001b[0m \u001b[0mplacement\u001b[0m\u001b[1;33m=\u001b[0m\u001b[0mplacement\u001b[0m\u001b[1;33m)\u001b[0m\u001b[1;33m\u001b[0m\u001b[0m\n\u001b[0m\u001b[0;32m   2519\u001b[0m \u001b[1;33m\u001b[0m\u001b[0m\n\u001b[0;32m   2520\u001b[0m \u001b[1;31m# TODO: flexible with index=None and/or items=None\u001b[0m\u001b[1;33m\u001b[0m\u001b[1;33m\u001b[0m\u001b[0m\n",
      "\u001b[1;32m/home/peiran/anaconda3/lib/python3.5/site-packages/pandas/core/internals.py\u001b[0m in \u001b[0;36m__init__\u001b[1;34m(self, values, placement, ndim, fastpath)\u001b[0m\n\u001b[0;32m     88\u001b[0m             raise ValueError('Wrong number of items passed %d, placement '\n\u001b[0;32m     89\u001b[0m                              'implies %d' % (len(self.values),\n\u001b[1;32m---> 90\u001b[1;33m                                              len(self.mgr_locs)))\n\u001b[0m\u001b[0;32m     91\u001b[0m \u001b[1;33m\u001b[0m\u001b[0m\n\u001b[0;32m     92\u001b[0m     \u001b[1;33m@\u001b[0m\u001b[0mproperty\u001b[0m\u001b[1;33m\u001b[0m\u001b[0m\n",
      "\u001b[1;31mValueError\u001b[0m: Wrong number of items passed 56, placement implies 57"
     ]
    }
   ],
   "source": [
    "pd.Series(list(mdl.get_fscore().values()), index = data_test.columns)"
   ]
  },
  {
   "cell_type": "code",
   "execution_count": null,
   "metadata": {
    "collapsed": true
   },
   "outputs": [],
   "source": []
  },
  {
   "cell_type": "code",
   "execution_count": null,
   "metadata": {
    "collapsed": true
   },
   "outputs": [],
   "source": []
  },
  {
   "cell_type": "code",
   "execution_count": null,
   "metadata": {
    "collapsed": true
   },
   "outputs": [],
   "source": []
  }
 ],
 "metadata": {
  "anaconda-cloud": {},
  "kernelspec": {
   "display_name": "Python [Root]",
   "language": "python",
   "name": "Python [Root]"
  },
  "language_info": {
   "codemirror_mode": {
    "name": "ipython",
    "version": 3
   },
   "file_extension": ".py",
   "mimetype": "text/x-python",
   "name": "python",
   "nbconvert_exporter": "python",
   "pygments_lexer": "ipython3",
   "version": "3.5.2"
  }
 },
 "nbformat": 4,
 "nbformat_minor": 2
}
